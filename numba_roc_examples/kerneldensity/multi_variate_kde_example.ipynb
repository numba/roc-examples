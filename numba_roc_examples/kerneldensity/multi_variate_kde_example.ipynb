{
 "cells": [
  {
   "cell_type": "markdown",
   "metadata": {},
   "source": [
    "# Multivariate Kernel Density Estimator\n",
    "\n",
    "This example compares the statsmodel multivariate KDE with a ROC GPU version"
   ]
  },
  {
   "cell_type": "code",
   "execution_count": null,
   "metadata": {},
   "outputs": [],
   "source": [
    "%cd -q ../.."
   ]
  },
  {
   "cell_type": "code",
   "execution_count": null,
   "metadata": {},
   "outputs": [],
   "source": [
    "import numpy as np\n",
    "from timeit import default_timer as timer\n",
    "# Import for statsmodels KDE\n",
    "import statsmodels.api as sm\n",
    "# Import Bokeh for plotting\n",
    "from bokeh.plotting import figure, show, output_notebook\n",
    "from bokeh.models.layouts import Column\n",
    "from bokeh import palettes\n",
    "# Import our custom ROC KDE implementation\n",
    "from numba_roc_examples.kerneldensity.roc_imp import approx_bandwidth, build_support_nd, roc_multi_kde, calc_rms\n",
    "from numba_roc_examples.kerneldensity.plotting import RGBColorMapper"
   ]
  },
  {
   "cell_type": "code",
   "execution_count": null,
   "metadata": {},
   "outputs": [],
   "source": [
    "output_notebook()"
   ]
  },
  {
   "cell_type": "markdown",
   "metadata": {},
   "source": [
    "## Prepare sample data"
   ]
  },
  {
   "cell_type": "code",
   "execution_count": null,
   "metadata": {},
   "outputs": [],
   "source": [
    "size = 200   # Configurable for different sample size\n",
    "samples = np.squeeze(np.dstack([np.random.normal(size=size),\n",
    "                                np.random.normal(size=size)]))\n",
    "bwlist = [approx_bandwidth(samples[:, k])\n",
    "          for k in range(samples.shape[1])]\n",
    "bandwidths = np.array(bwlist)\n",
    "support = build_support_nd(samples, bandwidths)\n",
    "\n",
    "print(\"Samples byte size:\", samples.nbytes)\n",
    "print(\"Support byte size:\", support.nbytes)"
   ]
  },
  {
   "cell_type": "markdown",
   "metadata": {},
   "source": [
    "## Run Statsmodels KDE"
   ]
  },
  {
   "cell_type": "code",
   "execution_count": null,
   "metadata": {},
   "outputs": [],
   "source": [
    "kde = sm.nonparametric.KDEMultivariate(samples, var_type='cc', bw=bwlist)\n",
    "pdf_sm = kde.pdf(support)"
   ]
  },
  {
   "cell_type": "markdown",
   "metadata": {},
   "source": [
    "### Plot\n",
    "\n",
    "Plot the density"
   ]
  },
  {
   "cell_type": "code",
   "execution_count": null,
   "metadata": {
    "scrolled": false
   },
   "outputs": [],
   "source": [
    "N = int(np.sqrt(pdf_sm.size))\n",
    "normed = pdf_sm/np.ptp(pdf_sm)\n",
    "cm = RGBColorMapper(0, 1, palettes.Spectral11)\n",
    "img = cm.color_rgba(normed).view(dtype=np.uint32).reshape(N, N)\n",
    "\n",
    "x0 = support[0, 0]\n",
    "y0 = support[0, 1]\n",
    "x1 = support[-1, 0]\n",
    "y1 = support[-1, 1]\n",
    "dw = x1 - x0\n",
    "dh = y1 - y0\n",
    "\n",
    "fig_sm = figure(title='KDE-statsmodel', x_range=[x0, x1], y_range=[y0, y1])\n",
    "fig_sm.image_rgba(image=[img], x=[x0], y=[y0], dw=[dw], dh=[dh])\n",
    "show(fig_sm)"
   ]
  },
  {
   "cell_type": "markdown",
   "metadata": {},
   "source": [
    "## Run ROC GPU KDE"
   ]
  },
  {
   "cell_type": "code",
   "execution_count": null,
   "metadata": {},
   "outputs": [],
   "source": [
    "pdf_roc = np.zeros(support.shape[0], dtype=np.float64)\n",
    "roc_multi_kde(support, samples, bandwidths, pdf_roc)"
   ]
  },
  {
   "cell_type": "markdown",
   "metadata": {},
   "source": [
    "### Plot\n",
    "Plot the density"
   ]
  },
  {
   "cell_type": "code",
   "execution_count": null,
   "metadata": {},
   "outputs": [],
   "source": [
    "N = int(np.sqrt(pdf_roc.size))\n",
    "normed = pdf_roc/np.ptp(pdf_roc)\n",
    "cm = RGBColorMapper(0, 1, palettes.Spectral11)\n",
    "img = cm.color_rgba(normed).view(dtype=np.uint32).reshape(N, N)\n",
    "\n",
    "x0 = support[0, 0]\n",
    "y0 = support[0, 1]\n",
    "x1 = support[-1, 0]\n",
    "y1 = support[-1, 1]\n",
    "dw = x1 - x0\n",
    "dh = y1 - y0\n",
    "\n",
    "fig_roc = figure(title='KDE-numba-roc', x_range=[x0, x1], y_range=[y0, y1])\n",
    "fig_roc.image_rgba(image=[img], x=[x0], y=[y0], dw=[dw], dh=[dh])\n",
    "show(fig_roc)"
   ]
  },
  {
   "cell_type": "markdown",
   "metadata": {},
   "source": [
    "## Benchmark\n",
    "\n",
    "Test the two version for different size of samples.\n",
    "\n",
    "The `driver()` function will run both versions of KDE over the same random data and support.  The results are compared\n",
    "and the execution time of each version is returned."
   ]
  },
  {
   "cell_type": "code",
   "execution_count": null,
   "metadata": {},
   "outputs": [],
   "source": [
    "def driver(size):\n",
    "    # Prepare samples\n",
    "    samples = np.squeeze(np.dstack([np.random.normal(size=size),\n",
    "                                    np.random.normal(size=size)]))\n",
    "    bwlist = [approx_bandwidth(samples[:, k])\n",
    "              for k in range(samples.shape[1])]\n",
    "    bandwidths = np.array(bwlist)\n",
    "    support = build_support_nd(samples, bandwidths)\n",
    "    # Statsmodel\n",
    "    kde = sm.nonparametric.KDEMultivariate(samples, var_type='cc', bw=bwlist)\n",
    "    ts = timer()\n",
    "    pdf_sm = kde.pdf(support)\n",
    "    time_sm = timer() - ts\n",
    "    # ROC GPU\n",
    "    pdf_roc = np.zeros(support.shape[0], dtype=np.float64)\n",
    "    ts = timer()\n",
    "    roc_multi_kde(support, samples, bandwidths, pdf_roc)\n",
    "    time_roc = timer() - ts\n",
    "    # Check error\n",
    "    assert calc_rms(pdf_sm, pdf_roc, norm=True) < 1e-4\n",
    "    return time_sm, time_roc"
   ]
  },
  {
   "cell_type": "markdown",
   "metadata": {},
   "source": [
    "We will run `driver()` over 5 differents sizes to measure how each implementation scale."
   ]
  },
  {
   "cell_type": "code",
   "execution_count": null,
   "metadata": {},
   "outputs": [],
   "source": [
    "sample_sizes = [100, 200, 300, 400, 500]\n",
    "sm_timings = []\n",
    "roc_timings = []\n",
    "for sz in sample_sizes:\n",
    "    time_sm, time_roc = driver(sz)\n",
    "    sm_timings.append(time_sm)\n",
    "    roc_timings.append(time_roc)"
   ]
  },
  {
   "cell_type": "markdown",
   "metadata": {},
   "source": [
    "The following plots the measured data."
   ]
  },
  {
   "cell_type": "code",
   "execution_count": null,
   "metadata": {},
   "outputs": [],
   "source": [
    "fig = figure(title='Execution Time')\n",
    "fig.xaxis.axis_label = 'sample size'\n",
    "fig.yaxis.axis_label = 'execution time (seconds)'\n",
    "fig.line(sample_sizes, sm_timings, color='blue', legend='statsmodels')\n",
    "fig.line(sample_sizes, roc_timings, color='red', legend='ROC-GPU')\n",
    "\n",
    "fig2 = figure(title='Speedup')\n",
    "fig2.xaxis.axis_label = 'sample size'\n",
    "fig2.yaxis.axis_label = 'speedup (ROC over Statsmodels)'\n",
    "fig2.line(sample_sizes, np.array(sm_timings)/np.array(roc_timings))\n",
    "\n",
    "show(Column(fig, fig2))"
   ]
  }
 ],
 "metadata": {
  "kernelspec": {
   "display_name": "Python 3",
   "language": "python",
   "name": "python3"
  },
  "language_info": {
   "codemirror_mode": {
    "name": "ipython",
    "version": 3
   },
   "file_extension": ".py",
   "mimetype": "text/x-python",
   "name": "python",
   "nbconvert_exporter": "python",
   "pygments_lexer": "ipython3",
   "version": "3.7.0"
  }
 },
 "nbformat": 4,
 "nbformat_minor": 1
}
